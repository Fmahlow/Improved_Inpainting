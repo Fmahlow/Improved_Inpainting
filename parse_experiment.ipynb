{
  "cells": [
    {
      "cell_type": "code",
      "execution_count": null,
      "metadata": {},
      "outputs": [],
      "source": [
        "import pandas as pd\n",
        "from pathlib import Path\n",
        "\n",
        "background_map = {\n",
        "    'The city of London': 'The city of London World',\n",
        "    'The Parthenon in front of the Great Pyramid': 'The Parthenon in front of the Great Pyramid',\n",
        "    'A single beam of light enters the room from the ceiling The beam of light is illuminating an easel On the easel there is a Rembrandt painting of a raccoon': 'A single beam of light enters the room from the ceiling. The beam of light is illuminating an easel. On the easel, there is a Rembrandt painting of a raccoon.',\n",
        "    'A sunset': 'A sunset',\n",
        "    'Photograph of a wall along a city street with a watercolor mural of foes in a jazz band': 'Photograph of a wall along a city street with a watercolor mural of foxes in a jazz band.'\n",
        "}\n",
        "\n",
        "clothes_map = {\n",
        "    'A_scientist': 'A scientist',\n",
        "    'A_photograph_of_a_knight_in_shining_armor_holding_a_basketball': 'A photograph of a knight in shining armor holding a basketball',\n",
        "    'The_Mona_Lisa': 'The Mona Lisa',\n",
        "    'Salvador_Dalí': 'Salvador Dalí',\n",
        "    'A_person_with_arms_like_a_tree_branch': 'A person with arms like a tree branch'\n",
        "}\n",
        "\n",
        "def parse_threshold(th_str: str) -> float:\n",
        "    return int(th_str[2:]) / 10.0\n",
        "\n",
        "rows = []\n",
        "for file in sorted(Path('experiment').glob('*.jpg')):\n",
        "    name = file.name\n",
        "    parts = name[:-4].split('__')\n",
        "    img_name = parts[0]\n",
        "    background_raw = parts[2]\n",
        "    th_raw = parts[3]\n",
        "    clothing_raw = parts[4]\n",
        "    row = {\n",
        "        'nome_arquivo': name,\n",
        "        'imagem': img_name,\n",
        "        'threshold': parse_threshold(th_raw),\n",
        "        'prompt_fundo': background_map.get(background_raw, background_raw),\n",
        "        'prompt_roupa': clothes_map.get(clothing_raw, clothing_raw.replace('_', ' '))\n",
        "    }\n",
        "    rows.append(row)\n",
        "\n",
        "df = pd.DataFrame(rows)\n"
      ]
    },
    {
      "cell_type": "code",
      "execution_count": null,
      "metadata": {},
      "outputs": [],
      "source": [
        "df.head()\n"
      ]
    }
  ],
  "metadata": {
    "kernelspec": {
      "display_name": "Python 3",
      "language": "python",
      "name": "python3"
    },
    "language_info": {
      "name": "python",
      "version": "3.8",
      "mimetype": "text/x-python",
      "codemirror_mode": {
        "name": "ipython",
        "version": 3
      },
      "pygments_lexer": "ipython3",
      "nbconvert_exporter": "python",
      "file_extension": ".py"
    }
  },
  "nbformat": 4,
  "nbformat_minor": 5
}